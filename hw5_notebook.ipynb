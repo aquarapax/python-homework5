{
 "cells": [
  {
   "cell_type": "markdown",
   "metadata": {},
   "source": [
    "Задача №1 Создать программу, которая работает со списком"
   ]
  },
  {
   "cell_type": "code",
   "execution_count": 76,
   "metadata": {},
   "outputs": [],
   "source": [
    "# Функция для проверки, является ли значение числом\n",
    "def is_number(value):\n",
    "    try:\n",
    "        float(value)  # Пробуем преобразовать значение в float\n",
    "        return True   # Если успешно, возвращаем True\n",
    "    except ValueError:\n",
    "        return False  # Если возникает ошибка, возвращаем False"
   ]
  },
  {
   "cell_type": "code",
   "execution_count": null,
   "metadata": {},
   "outputs": [],
   "source": [
    "def func(): \n",
    "    user_input = input(\"Введите элементы через пробел: \") # ввод списка пользователем\n",
    "    elements = user_input.split()  # Преобразование введенной строки в список\n",
    "    print(f'Введенный список {elements}')\n",
    "    # Проверяем, содержит ли список хотя бы одно положительное число с использованием any\n",
    "    # используем функцию is_number для отсеивания нечисловых значений\n",
    "    has_positive = any(float(x) > 0 for x in elements if is_number(x))\n",
    "    if has_positive:\n",
    "        print(\"Список содержит хотя бы одно положительное число.\")\n",
    "    else:\n",
    "        print(\"В списке нет положительных чисел.\")\n",
    "\n",
    "    # Проверяем на наличие в списке нечисловых элементов с помощью all\n",
    "    all_numbers = all(is_number(x) for x in elements)\n",
    "    if all_numbers:\n",
    "        print(\"Все элементы списка являются числами.\")\n",
    "    else:\n",
    "        print(\"В списке есть нечисловые элементы.\")\n",
    "    \n",
    "    numeric_elements = (float(x) for x in elements if is_number(x)) # создаем генератор, не числовые элементы отсеиваем с помощью is_number\n",
    "    sorted_numbers = sorted(numeric_elements)# Сортируем  c помощью sorted\n",
    "    print(\"Отсортированный список чисел:\", sorted_numbers)"
   ]
  },
  {
   "cell_type": "code",
   "execution_count": 80,
   "metadata": {},
   "outputs": [
    {
     "name": "stdout",
     "output_type": "stream",
     "text": [
      "['Привет', '10', '15', '-1', '0', '3', '4']\n",
      "Список содержит хотя бы одно положительное число.\n",
      "В списке есть нечисловые элементы.\n",
      "Отсортированный список чисел: [-1.0, 0.0, 3.0, 4.0, 10.0, 15.0]\n"
     ]
    }
   ],
   "source": [
    "func()"
   ]
  },
  {
   "cell_type": "markdown",
   "metadata": {},
   "source": [
    "Задача №2 Написать класс CyclicIterator"
   ]
  },
  {
   "cell_type": "code",
   "execution_count": 51,
   "metadata": {},
   "outputs": [],
   "source": [
    "class CyclicIterator:\n",
    "    def __init__(self, iterable): # инициализация класса\n",
    "        self.iterable = iterable\n",
    "        self.index = 0\n",
    "\n",
    "    def __iter__(self):\n",
    "        return self\n",
    "\n",
    "    def __next__(self):\n",
    "        if not self.iterable:  # Проверяем, является ли итерируемый объект пустым\n",
    "            raise StopIteration  # Если пусто, вызываем исключение\n",
    "        value = self.iterable[self.index]  # Получаем текущий элемент\n",
    "        self.index = (self.index + 1) % len(self.iterable)  # присваиваем индекс для следующего вызова next, при достижении len, index сбрасывается на 0\n",
    "        return value  # Возвращаем текущий элемент"
   ]
  },
  {
   "cell_type": "code",
   "execution_count": 52,
   "metadata": {},
   "outputs": [
    {
     "name": "stdout",
     "output_type": "stream",
     "text": [
      "0 - 0\n",
      "1 - 1\n",
      "2 - 2\n",
      "3 - 0\n",
      "4 - 1\n",
      "5 - 2\n",
      "6 - 0\n",
      "7 - 1\n"
     ]
    }
   ],
   "source": [
    "items  = range(3) # Создаем range для тестирования\n",
    "cyclic_iterator = CyclicIterator(items)\n",
    "for i in range(8):  # 8 итераций для демонстрации цикличности\n",
    "    print(f'{i} - {next(cyclic_iterator)}')"
   ]
  },
  {
   "cell_type": "code",
   "execution_count": 53,
   "metadata": {},
   "outputs": [
    {
     "name": "stdout",
     "output_type": "stream",
     "text": [
      "0 - ц\n",
      "1 - и\n",
      "2 - к\n",
      "3 - л\n",
      "4 - ц\n",
      "5 - и\n"
     ]
    }
   ],
   "source": [
    "items  = 'цикл' # Протестируем со строкой\n",
    "cyclic_iterator = CyclicIterator(items)\n",
    "for i in range(6):  # 6 итераций для демонстрации цикличности\n",
    "    print(f'{i} - {next(cyclic_iterator)}')"
   ]
  },
  {
   "cell_type": "markdown",
   "metadata": {},
   "source": [
    "Задача №3 Задайте функцию-генератор для генерации паролей"
   ]
  },
  {
   "cell_type": "code",
   "execution_count": 54,
   "metadata": {},
   "outputs": [],
   "source": [
    "import random # random для случайного выбора символов\n",
    "from string import ascii_lowercase, ascii_uppercase # Строки с наборами ascii для источника симоволов пароля\n",
    "chars = ascii_lowercase + ascii_uppercase + \"0123456789!?@#$*\" # Формируем строку с символами для паролей"
   ]
  },
  {
   "cell_type": "code",
   "execution_count": 55,
   "metadata": {},
   "outputs": [],
   "source": [
    "# Функция генерации паролей \n",
    "def password_generator(length=12): # Добавил параметр для регулирования длинны пароля, по умолчанию 12\n",
    "    while True:  # Бесконечный цикл, чтобы генерировать пароли \"бесконечно\"\n",
    "        password = '' # Переменная для хранения пароля\n",
    "        for i in range(length): # Цикл от 0 до length-1\n",
    "            t = random.choice(chars) # Выбираем случайный символ из chars\n",
    "            password = password + t # Склеиваем символ с паролем\n",
    "        yield password  # Возвращаем сгенерированный пароль с помощью yield"
   ]
  },
  {
   "cell_type": "code",
   "execution_count": null,
   "metadata": {},
   "outputs": [
    {
     "name": "stdout",
     "output_type": "stream",
     "text": [
      "$IUIi6KjPp@p\n",
      "Z8d3X1#xmXg0\n",
      "QOuOEEY!OmA$\n",
      "EnyV6TJ0tORe\n",
      "tq4HAvt1QSQD\n"
     ]
    }
   ],
   "source": [
    "# Создаем экземпляр генератора\n",
    "gen = password_generator()\n",
    "# Генерируем и выводим 5 паролей \n",
    "for i in range(5):\n",
    "    print(next(gen)) # Используем next для получения следующего сгенерированного значения"
   ]
  },
  {
   "cell_type": "markdown",
   "metadata": {},
   "source": [
    "Задача №4 Создать класс Movie"
   ]
  },
  {
   "cell_type": "code",
   "execution_count": null,
   "metadata": {},
   "outputs": [],
   "source": [
    "from datetime import datetime, timedelta # импортируем библиотеки для работы с датами"
   ]
  },
  {
   "cell_type": "code",
   "execution_count": 73,
   "metadata": {},
   "outputs": [],
   "source": [
    "# Создаем класс Movie \n",
    "class Movie:\n",
    "    def __init__(self, title, schedule_periods):\n",
    "        self.title = title\n",
    "        self.schedule_periods = schedule_periods\n",
    "\n",
    "    def schedule(self): # Генератор который возвращает даты показа фильмов\n",
    "        for start_date, end_date in self.schedule_periods: # Цикл по периуду\n",
    "            current_date = start_date # Начинаем с первой даты\n",
    "            while current_date <= end_date: # Цикл до тех пор пока не достигнем end_date\n",
    "                yield current_date # возвращаем дату\n",
    "                current_date += timedelta(days=1) # увеличиваем дату на один день"
   ]
  },
  {
   "cell_type": "code",
   "execution_count": 74,
   "metadata": {},
   "outputs": [],
   "source": [
    "# Создаем экземпляр фильма с названием и расписанием\n",
    "movie = Movie(\"Елки inf\", [\n",
    "    (datetime(2024, 12, 31), datetime(2025, 1, 3)),\n",
    "    (datetime(2025, 1, 5), datetime(2025, 1, 7)),\n",
    "    (datetime(2025, 2, 1), datetime(2025, 2, 1))\n",
    "])"
   ]
  },
  {
   "cell_type": "code",
   "execution_count": 75,
   "metadata": {},
   "outputs": [
    {
     "name": "stdout",
     "output_type": "stream",
     "text": [
      "Расписание показа фильма 'Елки inf':\n",
      "2024-12-31 00:00:00\n",
      "2025-01-01 00:00:00\n",
      "2025-01-02 00:00:00\n",
      "2025-01-03 00:00:00\n",
      "2025-01-05 00:00:00\n",
      "2025-01-06 00:00:00\n",
      "2025-01-07 00:00:00\n",
      "2025-02-01 00:00:00\n"
     ]
    }
   ],
   "source": [
    "# Проверяем работу генератора\n",
    "print(f\"Расписание показа фильма '{movie.title}':\")\n",
    "for showing_date in movie.schedule():\n",
    "    print(showing_date)"
   ]
  }
 ],
 "metadata": {
  "kernelspec": {
   "display_name": "Python 3",
   "language": "python",
   "name": "python3"
  },
  "language_info": {
   "codemirror_mode": {
    "name": "ipython",
    "version": 3
   },
   "file_extension": ".py",
   "mimetype": "text/x-python",
   "name": "python",
   "nbconvert_exporter": "python",
   "pygments_lexer": "ipython3",
   "version": "3.13.0"
  }
 },
 "nbformat": 4,
 "nbformat_minor": 2
}
